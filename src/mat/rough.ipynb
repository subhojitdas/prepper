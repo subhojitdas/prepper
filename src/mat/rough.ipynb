{
 "cells": [
  {
   "cell_type": "code",
   "id": "initial_id",
   "metadata": {
    "collapsed": true,
    "ExecuteTime": {
     "end_time": "2025-05-27T21:33:34.829623Z",
     "start_time": "2025-05-27T21:33:34.826037Z"
    }
   },
   "source": "import collections",
   "outputs": [],
   "execution_count": 1
  },
  {
   "metadata": {
    "ExecuteTime": {
     "end_time": "2025-05-27T21:37:17.289017Z",
     "start_time": "2025-05-27T21:37:17.285942Z"
    }
   },
   "cell_type": "code",
   "source": [
    "d = collections.defaultdict(lambda : collections.Counter())\n",
    "d[0][0] = 1\n",
    "d[0][1] = 2\n",
    "d[0][2] = 1"
   ],
   "id": "3dc0ed4c149396bb",
   "outputs": [],
   "execution_count": 15
  },
  {
   "metadata": {
    "ExecuteTime": {
     "end_time": "2025-05-27T21:37:17.781379Z",
     "start_time": "2025-05-27T21:37:17.778696Z"
    }
   },
   "cell_type": "code",
   "source": "d",
   "id": "7a359cb296387720",
   "outputs": [
    {
     "data": {
      "text/plain": [
       "defaultdict(<function __main__.<lambda>()>, {0: Counter({1: 2, 0: 1, 2: 1})})"
      ]
     },
     "execution_count": 16,
     "metadata": {},
     "output_type": "execute_result"
    }
   ],
   "execution_count": 16
  },
  {
   "metadata": {},
   "cell_type": "code",
   "outputs": [],
   "execution_count": null,
   "source": "",
   "id": "57d10377bc63808e"
  }
 ],
 "metadata": {
  "kernelspec": {
   "display_name": "Python 3",
   "language": "python",
   "name": "python3"
  },
  "language_info": {
   "codemirror_mode": {
    "name": "ipython",
    "version": 2
   },
   "file_extension": ".py",
   "mimetype": "text/x-python",
   "name": "python",
   "nbconvert_exporter": "python",
   "pygments_lexer": "ipython2",
   "version": "2.7.6"
  }
 },
 "nbformat": 4,
 "nbformat_minor": 5
}
