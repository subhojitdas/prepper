{
 "cells": [
  {
   "cell_type": "code",
   "id": "initial_id",
   "metadata": {
    "collapsed": true,
    "ExecuteTime": {
     "end_time": "2025-05-30T11:09:35.487448Z",
     "start_time": "2025-05-30T11:09:35.483665Z"
    }
   },
   "source": [
    "i = 4\n",
    "i = i | (i + 1)\n",
    "i"
   ],
   "outputs": [
    {
     "data": {
      "text/plain": [
       "5"
      ]
     },
     "execution_count": 10,
     "metadata": {},
     "output_type": "execute_result"
    }
   ],
   "execution_count": 10
  },
  {
   "metadata": {
    "ExecuteTime": {
     "end_time": "2025-05-30T11:25:04.263856Z",
     "start_time": "2025-05-30T11:25:04.261022Z"
    }
   },
   "cell_type": "code",
   "source": [
    "i = 26\n",
    "i = i + (i & -i)\n",
    "i"
   ],
   "id": "138d72a3f1949391",
   "outputs": [
    {
     "data": {
      "text/plain": [
       "28"
      ]
     },
     "execution_count": 33,
     "metadata": {},
     "output_type": "execute_result"
    }
   ],
   "execution_count": 33
  },
  {
   "metadata": {
    "ExecuteTime": {
     "end_time": "2025-05-30T13:28:46.363570Z",
     "start_time": "2025-05-30T13:28:46.360158Z"
    }
   },
   "cell_type": "code",
   "source": "bin(10), bin(-10)",
   "id": "b97d6e7438d859e1",
   "outputs": [
    {
     "data": {
      "text/plain": [
       "('0b1010', '-0b1010')"
      ]
     },
     "execution_count": 35,
     "metadata": {},
     "output_type": "execute_result"
    }
   ],
   "execution_count": 35
  },
  {
   "metadata": {
    "ExecuteTime": {
     "end_time": "2025-05-30T13:28:56.721186Z",
     "start_time": "2025-05-30T13:28:56.717741Z"
    }
   },
   "cell_type": "code",
   "source": "bin(10 & -10)",
   "id": "a1c943bfabecb90c",
   "outputs": [
    {
     "data": {
      "text/plain": [
       "'0b10'"
      ]
     },
     "execution_count": 36,
     "metadata": {},
     "output_type": "execute_result"
    }
   ],
   "execution_count": 36
  },
  {
   "metadata": {},
   "cell_type": "code",
   "outputs": [],
   "execution_count": null,
   "source": "",
   "id": "3e6d616e3c03d82c"
  }
 ],
 "metadata": {
  "kernelspec": {
   "display_name": "Python 3",
   "language": "python",
   "name": "python3"
  },
  "language_info": {
   "codemirror_mode": {
    "name": "ipython",
    "version": 2
   },
   "file_extension": ".py",
   "mimetype": "text/x-python",
   "name": "python",
   "nbconvert_exporter": "python",
   "pygments_lexer": "ipython2",
   "version": "2.7.6"
  }
 },
 "nbformat": 4,
 "nbformat_minor": 5
}
